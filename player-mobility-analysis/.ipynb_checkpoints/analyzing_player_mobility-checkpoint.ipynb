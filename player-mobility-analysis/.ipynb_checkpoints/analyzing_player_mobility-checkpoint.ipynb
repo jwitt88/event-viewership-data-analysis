{
 "cells": [
  {
   "cell_type": "markdown",
   "metadata": {},
   "source": [
    "## Null hypoth: Something"
   ]
  },
  {
   "cell_type": "markdown",
   "metadata": {},
   "source": [
    "### Explanation of process"
   ]
  },
  {
   "cell_type": "code",
   "execution_count": 25,
   "metadata": {},
   "outputs": [],
   "source": [
    "import pandas as pd\n",
    "import numpy as np\n",
    "import seaborn as sns\n",
    "import matplotlib.pyplot as plt"
   ]
  },
  {
   "cell_type": "code",
   "execution_count": 26,
   "metadata": {},
   "outputs": [],
   "source": [
    "#create a list of the input files\n",
    "list_of_stat_files = ['poker_stats.csv', 'ssbm_stats.csv', 'chess_stats.csv', 'tennis_stats.csv', 'pinball_stats.csv']\n",
    "list_of_rank_files = ['poker_rank_data.csv', 'ssbm_rank_data.csv', 'chess_rank_data.csv', 'tennis_rank_data.csv', 'pinball_rank_data.csv']\n",
    "\n",
    "#create dataframes to hold the data\n",
    "stats_df = pd.DataFrame()\n",
    "rank_df = pd.DataFrame()"
   ]
  },
  {
   "cell_type": "code",
   "execution_count": 27,
   "metadata": {},
   "outputs": [],
   "source": [
    "#read all the data in the stats files into stats_df\n",
    "for file in list_of_stat_files:\n",
    "    temp_df = pd.read_csv(file)\n",
    "    stats_df = pd.concat([stats_df, temp_df])\n",
    "    \n",
    "#read all the data in the rank files into rank_df\n",
    "for file2 in list_of_rank_files:\n",
    "    temp_df2 = pd.read_csv(file2)\n",
    "    rank_df = pd.concat([rank_df, temp_df2])"
   ]
  },
  {
   "cell_type": "markdown",
   "metadata": {},
   "source": [
    "#### Optional: export all of the data as a single file:"
   ]
  },
  {
   "cell_type": "code",
   "execution_count": 28,
   "metadata": {},
   "outputs": [],
   "source": [
    "#stats_df.to_csv('all_stats.csv', index=False)\n",
    "#rank_df.to_csv('all_ranks.csv', index=False)"
   ]
  },
  {
   "cell_type": "code",
   "execution_count": 29,
   "metadata": {},
   "outputs": [],
   "source": [
    "#create dataframes for each bracket:\n",
    "top10_df = rank_df[rank_df['RANK'] <= 10].copy()\n",
    "top25_df = rank_df[rank_df['RANK'] <= 25].copy()\n",
    "top50_df = rank_df[rank_df['RANK'] <= 50].copy()"
   ]
  },
  {
   "cell_type": "code",
   "execution_count": 30,
   "metadata": {},
   "outputs": [],
   "source": [
    "#create a list of the three dataframes:\n",
    "gross_df = [top10_df, top25_df, top50_df]"
   ]
  },
  {
   "cell_type": "code",
   "execution_count": 31,
   "metadata": {},
   "outputs": [],
   "source": [
    "#for each dataframe in the list, group the content by 'FIELD' and sum the columns:\n",
    "for i, df in enumerate(gross_df):\n",
    "    \n",
    "    #get the absolute value of change\n",
    "    df['CHANGE'] = df['CHANGE'].abs()\n",
    "    \n",
    "    df = df.groupby('FIELD').sum()\n",
    "    df.reset_index(inplace=True)\n",
    "    \n",
    "    #this loop adjusts for PINALL missing a year of data\n",
    "    for num in range(1,4):\n",
    "        df.iloc[1, num] = df.iloc[1, num] * 1.2\n",
    "    \n",
    "    #get the absolute value of change, normalize it, and round up:\n",
    "    df['CHANGE'] = df['CHANGE'] / 6\n",
    "    df['CHANGE'] = df['CHANGE'].apply(np.ceil)\n",
    "    \n",
    "    #per person depends on which dataframe we're looking at:\n",
    "    if i == 0:\n",
    "        df['AVG_INDIV_CHANGE'] = df['CHANGE'] / 10\n",
    "    if i == 1:\n",
    "        df['AVG_INDIV_CHANGE'] = df['CHANGE'] / 25\n",
    "    if i == 2:\n",
    "        df['AVG_INDIV_CHANGE'] = df['CHANGE'] / 50\n",
    "        \n",
    "    #normalize the new column and round up:\n",
    "    df['NEW'] = df['NEW'] / 6\n",
    "    df['NEW'] = df['NEW'].apply(np.ceil)\n",
    "    \n",
    "    #return a dataframe with the adjusted values:\n",
    "    df = df[['FIELD', 'CHANGE', 'AVG_INDIV_CHANGE', 'NEW']]\n",
    "    \n",
    "    #rename to clarify column names:\n",
    "    df.rename(columns={'CHANGE':'AVG_TOTAL_CHANGE', 'NEW':'AVG_TOTAL_NEWCOMERS'}, inplace=True)\n",
    "    gross_df[i] = df"
   ]
  },
  {
   "cell_type": "markdown",
   "metadata": {},
   "source": [
    "### Interpreting the data:"
   ]
  },
  {
   "cell_type": "code",
   "execution_count": 32,
   "metadata": {},
   "outputs": [
    {
     "data": {
      "text/html": [
       "<div>\n",
       "<style scoped>\n",
       "    .dataframe tbody tr th:only-of-type {\n",
       "        vertical-align: middle;\n",
       "    }\n",
       "\n",
       "    .dataframe tbody tr th {\n",
       "        vertical-align: top;\n",
       "    }\n",
       "\n",
       "    .dataframe thead th {\n",
       "        text-align: right;\n",
       "    }\n",
       "</style>\n",
       "<table border=\"1\" class=\"dataframe\">\n",
       "  <thead>\n",
       "    <tr style=\"text-align: right;\">\n",
       "      <th></th>\n",
       "      <th>FIELD</th>\n",
       "      <th>AVG_TOTAL_CHANGE</th>\n",
       "      <th>AVG_INDIV_CHANGE</th>\n",
       "      <th>AVG_TOTAL_NEWCOMERS</th>\n",
       "    </tr>\n",
       "  </thead>\n",
       "  <tbody>\n",
       "    <tr>\n",
       "      <th>0</th>\n",
       "      <td>CHESS</td>\n",
       "      <td>555.0</td>\n",
       "      <td>11.10</td>\n",
       "      <td>2.0</td>\n",
       "    </tr>\n",
       "    <tr>\n",
       "      <th>1</th>\n",
       "      <td>PINBALL</td>\n",
       "      <td>613.0</td>\n",
       "      <td>12.26</td>\n",
       "      <td>2.0</td>\n",
       "    </tr>\n",
       "    <tr>\n",
       "      <th>2</th>\n",
       "      <td>POKER</td>\n",
       "      <td>1714.0</td>\n",
       "      <td>34.28</td>\n",
       "      <td>15.0</td>\n",
       "    </tr>\n",
       "    <tr>\n",
       "      <th>3</th>\n",
       "      <td>SSBM</td>\n",
       "      <td>817.0</td>\n",
       "      <td>16.34</td>\n",
       "      <td>6.0</td>\n",
       "    </tr>\n",
       "    <tr>\n",
       "      <th>4</th>\n",
       "      <td>TENNIS</td>\n",
       "      <td>1018.0</td>\n",
       "      <td>20.36</td>\n",
       "      <td>5.0</td>\n",
       "    </tr>\n",
       "  </tbody>\n",
       "</table>\n",
       "</div>"
      ],
      "text/plain": [
       "     FIELD  AVG_TOTAL_CHANGE  AVG_INDIV_CHANGE  AVG_TOTAL_NEWCOMERS\n",
       "0    CHESS             555.0             11.10                  2.0\n",
       "1  PINBALL             613.0             12.26                  2.0\n",
       "2    POKER            1714.0             34.28                 15.0\n",
       "3     SSBM             817.0             16.34                  6.0\n",
       "4   TENNIS            1018.0             20.36                  5.0"
      ]
     },
     "execution_count": 32,
     "metadata": {},
     "output_type": "execute_result"
    }
   ],
   "source": [
    "#Let's start by reviewing the dataframe for the top 50...\n",
    "gross_df[2]"
   ]
  },
  {
   "cell_type": "markdown",
   "metadata": {},
   "source": [
    "#### How do you interpret 'Change'?\n",
    "- **CHANGE** - The annual average of the collective movement (player movement up or down) for a given field/bracket.\n",
    "    - Example: *SSBM has, on average, 817 points of player movement in their top 50 each year.*\n",
    "    - Note: movement can occur in either direction--a player climbing two spots (+2) is weighted the same as someone falling two spots (-2).\n",
    "\n",
    "- Breaking down change per person for SSBM, we see that the **average annual change per person** is 16.34; this doesn't mean that every single person in the top 50 moved 16 spots up or down, but rather gives us a general idea of what the group's average movement is like each year."
   ]
  },
  {
   "cell_type": "markdown",
   "metadata": {},
   "source": [
    "#### What about new players?\n",
    "- **NEW** - The appearance of a **previously unranked player** entering the rankings at the provided field/bracket.\n",
    "    - Example: we see that, on average, there are 15 new (previously unranked) players that join the top 50 rankings for Poker every year. By comparison, we see that Chess on average only has two unranked players make their first appearence in the top 50 ranks of each year.\n",
    "    - Interpreting the example: *Chess players aren't as likely as Poker players to make their first ranked appearence in the top 50 of the charts; they're more likely to be ranked elsewhere (potentially 51-100, or 100+) before gradually working their way into the top 50.*"
   ]
  },
  {
   "cell_type": "markdown",
   "metadata": {},
   "source": [
    "## Plotting the data:"
   ]
  },
  {
   "cell_type": "code",
   "execution_count": 33,
   "metadata": {},
   "outputs": [
    {
     "data": {
      "text/plain": [
       "<BarContainer object of 5 artists>"
      ]
     },
     "execution_count": 33,
     "metadata": {},
     "output_type": "execute_result"
    },
    {
     "data": {
      "image/png": "[encoded data removed]",
      "text/plain": [
       "<Figure size 432x288 with 1 Axes>"
      ]
     },
     "metadata": {
      "needs_background": "light"
     },
     "output_type": "display_data"
    }
   ],
   "source": [
    "#Plotting the average change for all ranking players in the top 50:\n",
    "plt.bar(gross_df[2]['FIELD'], gross_df[2]['AVG_TOTAL_CHANGE'])"
   ]
  },
  {
   "cell_type": "code",
   "execution_count": 34,
   "metadata": {},
   "outputs": [
    {
     "data": {
      "text/plain": [
       "<BarContainer object of 5 artists>"
      ]
     },
     "execution_count": 34,
     "metadata": {},
     "output_type": "execute_result"
    },
    {
     "data": {
      "image/png": "[encoded data removed]",
      "text/plain": [
       "<Figure size 432x288 with 1 Axes>"
      ]
     },
     "metadata": {
      "needs_background": "light"
     },
     "output_type": "display_data"
    }
   ],
   "source": [
    "#Plotting the average number of total newcomers in the top 50:\n",
    "plt.bar(gross_df[2]['FIELD'], gross_df[2]['AVG_TOTAL_NEWCOMERS'])"
   ]
  },
  {
   "cell_type": "code",
   "execution_count": null,
   "metadata": {},
   "outputs": [],
   "source": []
  },
  {
   "cell_type": "code",
   "execution_count": null,
   "metadata": {},
   "outputs": [],
   "source": []
  },
  {
   "cell_type": "code",
   "execution_count": 35,
   "metadata": {},
   "outputs": [],
   "source": [
    "year_filter = [2019, 2018, 2017]"
   ]
  },
  {
   "cell_type": "code",
   "execution_count": 36,
   "metadata": {},
   "outputs": [],
   "source": [
    "filtered_df = top50_df[top50_df.YEAR.isin(year_filter)].copy()"
   ]
  },
  {
   "cell_type": "code",
   "execution_count": 37,
   "metadata": {},
   "outputs": [
    {
     "data": {
      "text/html": [
       "<div>\n",
       "<style scoped>\n",
       "    .dataframe tbody tr th:only-of-type {\n",
       "        vertical-align: middle;\n",
       "    }\n",
       "\n",
       "    .dataframe tbody tr th {\n",
       "        vertical-align: top;\n",
       "    }\n",
       "\n",
       "    .dataframe thead th {\n",
       "        text-align: right;\n",
       "    }\n",
       "</style>\n",
       "<table border=\"1\" class=\"dataframe\">\n",
       "  <thead>\n",
       "    <tr style=\"text-align: right;\">\n",
       "      <th></th>\n",
       "      <th>FIELD</th>\n",
       "      <th>YEAR</th>\n",
       "      <th>PLAYER</th>\n",
       "      <th>RANK</th>\n",
       "      <th>CHANGE</th>\n",
       "      <th>NEW</th>\n",
       "      <th>SPEC_SCORE</th>\n",
       "    </tr>\n",
       "  </thead>\n",
       "  <tbody>\n",
       "    <tr>\n",
       "      <th>0</th>\n",
       "      <td>POKER</td>\n",
       "      <td>2019</td>\n",
       "      <td>Stephen Chidwick</td>\n",
       "      <td>1</td>\n",
       "      <td>2.0</td>\n",
       "      <td>False</td>\n",
       "      <td>3,687.58 pts</td>\n",
       "    </tr>\n",
       "    <tr>\n",
       "      <th>1</th>\n",
       "      <td>POKER</td>\n",
       "      <td>2019</td>\n",
       "      <td>William Alex Foxen</td>\n",
       "      <td>2</td>\n",
       "      <td>1.0</td>\n",
       "      <td>False</td>\n",
       "      <td>3,595.96 pts</td>\n",
       "    </tr>\n",
       "    <tr>\n",
       "      <th>2</th>\n",
       "      <td>POKER</td>\n",
       "      <td>2019</td>\n",
       "      <td>Anthony Zinno</td>\n",
       "      <td>3</td>\n",
       "      <td>16.0</td>\n",
       "      <td>False</td>\n",
       "      <td>3,387.21 pts</td>\n",
       "    </tr>\n",
       "    <tr>\n",
       "      <th>3</th>\n",
       "      <td>POKER</td>\n",
       "      <td>2019</td>\n",
       "      <td>Sean Winter</td>\n",
       "      <td>4</td>\n",
       "      <td>59.0</td>\n",
       "      <td>False</td>\n",
       "      <td>3,379.65 pts</td>\n",
       "    </tr>\n",
       "    <tr>\n",
       "      <th>4</th>\n",
       "      <td>POKER</td>\n",
       "      <td>2019</td>\n",
       "      <td>Manig Loeser</td>\n",
       "      <td>5</td>\n",
       "      <td>23.0</td>\n",
       "      <td>False</td>\n",
       "      <td>3,369.95 pts</td>\n",
       "    </tr>\n",
       "    <tr>\n",
       "      <th>...</th>\n",
       "      <td>...</td>\n",
       "      <td>...</td>\n",
       "      <td>...</td>\n",
       "      <td>...</td>\n",
       "      <td>...</td>\n",
       "      <td>...</td>\n",
       "      <td>...</td>\n",
       "    </tr>\n",
       "    <tr>\n",
       "      <th>345</th>\n",
       "      <td>PINBALL</td>\n",
       "      <td>2017</td>\n",
       "      <td>Alberto Santana</td>\n",
       "      <td>46</td>\n",
       "      <td>55.0</td>\n",
       "      <td>True</td>\n",
       "      <td>1635.29</td>\n",
       "    </tr>\n",
       "    <tr>\n",
       "      <th>346</th>\n",
       "      <td>PINBALL</td>\n",
       "      <td>2017</td>\n",
       "      <td>Colin MacAlpine</td>\n",
       "      <td>47</td>\n",
       "      <td>17.0</td>\n",
       "      <td>False</td>\n",
       "      <td>1875.96</td>\n",
       "    </tr>\n",
       "    <tr>\n",
       "      <th>347</th>\n",
       "      <td>PINBALL</td>\n",
       "      <td>2017</td>\n",
       "      <td>Joe Lemire</td>\n",
       "      <td>48</td>\n",
       "      <td>17.0</td>\n",
       "      <td>False</td>\n",
       "      <td>1797.89</td>\n",
       "    </tr>\n",
       "    <tr>\n",
       "      <th>348</th>\n",
       "      <td>PINBALL</td>\n",
       "      <td>2017</td>\n",
       "      <td>Erwin Deutschländer</td>\n",
       "      <td>49</td>\n",
       "      <td>52.0</td>\n",
       "      <td>True</td>\n",
       "      <td>1561.38</td>\n",
       "    </tr>\n",
       "    <tr>\n",
       "      <th>349</th>\n",
       "      <td>PINBALL</td>\n",
       "      <td>2017</td>\n",
       "      <td>Chris Chinn</td>\n",
       "      <td>50</td>\n",
       "      <td>51.0</td>\n",
       "      <td>True</td>\n",
       "      <td>1575.89</td>\n",
       "    </tr>\n",
       "  </tbody>\n",
       "</table>\n",
       "<p>750 rows × 7 columns</p>\n",
       "</div>"
      ],
      "text/plain": [
       "       FIELD  YEAR               PLAYER  RANK  CHANGE    NEW    SPEC_SCORE\n",
       "0      POKER  2019     Stephen Chidwick     1     2.0  False  3,687.58 pts\n",
       "1      POKER  2019   William Alex Foxen     2     1.0  False  3,595.96 pts\n",
       "2      POKER  2019        Anthony Zinno     3    16.0  False  3,387.21 pts\n",
       "3      POKER  2019          Sean Winter     4    59.0  False  3,379.65 pts\n",
       "4      POKER  2019         Manig Loeser     5    23.0  False  3,369.95 pts\n",
       "..       ...   ...                  ...   ...     ...    ...           ...\n",
       "345  PINBALL  2017      Alberto Santana    46    55.0   True       1635.29\n",
       "346  PINBALL  2017      Colin MacAlpine    47    17.0  False       1875.96\n",
       "347  PINBALL  2017           Joe Lemire    48    17.0  False       1797.89\n",
       "348  PINBALL  2017  Erwin Deutschländer    49    52.0   True       1561.38\n",
       "349  PINBALL  2017          Chris Chinn    50    51.0   True       1575.89\n",
       "\n",
       "[750 rows x 7 columns]"
      ]
     },
     "execution_count": 37,
     "metadata": {},
     "output_type": "execute_result"
    }
   ],
   "source": [
    "filtered_df"
   ]
  },
  {
   "cell_type": "code",
   "execution_count": 55,
   "metadata": {},
   "outputs": [],
   "source": [
    "new_sum = filtered_df.groupby(['FIELD', 'YEAR']).sum()"
   ]
  },
  {
   "cell_type": "code",
   "execution_count": 56,
   "metadata": {},
   "outputs": [],
   "source": [
    "new_sum.drop(columns=['RANK', 'CHANGE'], axis=1, inplace=True)"
   ]
  },
  {
   "cell_type": "code",
   "execution_count": null,
   "metadata": {},
   "outputs": [],
   "source": []
  },
  {
   "cell_type": "code",
   "execution_count": 57,
   "metadata": {},
   "outputs": [],
   "source": [
    "avg_change = filtered_df.groupby(['FIELD', 'YEAR']).mean()"
   ]
  },
  {
   "cell_type": "code",
   "execution_count": 58,
   "metadata": {},
   "outputs": [],
   "source": [
    "avg_change.drop(columns=['RANK', 'NEW'], axis=1, inplace=True)"
   ]
  },
  {
   "cell_type": "code",
   "execution_count": 20,
   "metadata": {},
   "outputs": [],
   "source": []
  },
  {
   "cell_type": "code",
   "execution_count": 21,
   "metadata": {},
   "outputs": [],
   "source": []
  },
  {
   "cell_type": "code",
   "execution_count": 59,
   "metadata": {},
   "outputs": [],
   "source": [
    "combined_df = avg_change.merge(new_sum, on=['FIELD', 'YEAR'])"
   ]
  },
  {
   "cell_type": "code",
   "execution_count": 61,
   "metadata": {},
   "outputs": [],
   "source": [
    "combined_df.reset_index(inplace=True)"
   ]
  },
  {
   "cell_type": "code",
   "execution_count": 64,
   "metadata": {},
   "outputs": [],
   "source": [
    "combined_df.rename(columns={\"CHANGE\":\"AVG_CHANGE\", \"NEW\":\"NEW_CT\"}, inplace=True)"
   ]
  },
  {
   "cell_type": "code",
   "execution_count": 70,
   "metadata": {},
   "outputs": [
    {
     "data": {
      "text/html": [
       "<div>\n",
       "<style scoped>\n",
       "    .dataframe tbody tr th:only-of-type {\n",
       "        vertical-align: middle;\n",
       "    }\n",
       "\n",
       "    .dataframe tbody tr th {\n",
       "        vertical-align: top;\n",
       "    }\n",
       "\n",
       "    .dataframe thead th {\n",
       "        text-align: right;\n",
       "    }\n",
       "</style>\n",
       "<table border=\"1\" class=\"dataframe\">\n",
       "  <thead>\n",
       "    <tr style=\"text-align: right;\">\n",
       "      <th></th>\n",
       "      <th>FIELD</th>\n",
       "      <th>YEAR</th>\n",
       "      <th>AVG_CHANGE</th>\n",
       "      <th>NEW_CT</th>\n",
       "    </tr>\n",
       "  </thead>\n",
       "  <tbody>\n",
       "    <tr>\n",
       "      <th>0</th>\n",
       "      <td>CHESS</td>\n",
       "      <td>2017</td>\n",
       "      <td>12.56</td>\n",
       "      <td>2.0</td>\n",
       "    </tr>\n",
       "    <tr>\n",
       "      <th>1</th>\n",
       "      <td>CHESS</td>\n",
       "      <td>2018</td>\n",
       "      <td>11.42</td>\n",
       "      <td>1.0</td>\n",
       "    </tr>\n",
       "    <tr>\n",
       "      <th>2</th>\n",
       "      <td>CHESS</td>\n",
       "      <td>2019</td>\n",
       "      <td>12.80</td>\n",
       "      <td>4.0</td>\n",
       "    </tr>\n",
       "    <tr>\n",
       "      <th>3</th>\n",
       "      <td>PINBALL</td>\n",
       "      <td>2017</td>\n",
       "      <td>16.74</td>\n",
       "      <td>7.0</td>\n",
       "    </tr>\n",
       "    <tr>\n",
       "      <th>4</th>\n",
       "      <td>PINBALL</td>\n",
       "      <td>2018</td>\n",
       "      <td>17.56</td>\n",
       "      <td>4.0</td>\n",
       "    </tr>\n",
       "    <tr>\n",
       "      <th>5</th>\n",
       "      <td>PINBALL</td>\n",
       "      <td>2019</td>\n",
       "      <td>8.64</td>\n",
       "      <td>0.0</td>\n",
       "    </tr>\n",
       "    <tr>\n",
       "      <th>6</th>\n",
       "      <td>POKER</td>\n",
       "      <td>2017</td>\n",
       "      <td>32.18</td>\n",
       "      <td>16.0</td>\n",
       "    </tr>\n",
       "    <tr>\n",
       "      <th>7</th>\n",
       "      <td>POKER</td>\n",
       "      <td>2018</td>\n",
       "      <td>37.94</td>\n",
       "      <td>16.0</td>\n",
       "    </tr>\n",
       "    <tr>\n",
       "      <th>8</th>\n",
       "      <td>POKER</td>\n",
       "      <td>2019</td>\n",
       "      <td>31.94</td>\n",
       "      <td>12.0</td>\n",
       "    </tr>\n",
       "    <tr>\n",
       "      <th>9</th>\n",
       "      <td>SSBM</td>\n",
       "      <td>2017</td>\n",
       "      <td>16.14</td>\n",
       "      <td>6.0</td>\n",
       "    </tr>\n",
       "    <tr>\n",
       "      <th>10</th>\n",
       "      <td>SSBM</td>\n",
       "      <td>2018</td>\n",
       "      <td>16.18</td>\n",
       "      <td>5.0</td>\n",
       "    </tr>\n",
       "    <tr>\n",
       "      <th>11</th>\n",
       "      <td>SSBM</td>\n",
       "      <td>2019</td>\n",
       "      <td>18.92</td>\n",
       "      <td>5.0</td>\n",
       "    </tr>\n",
       "    <tr>\n",
       "      <th>12</th>\n",
       "      <td>TENNIS</td>\n",
       "      <td>2017</td>\n",
       "      <td>18.16</td>\n",
       "      <td>4.0</td>\n",
       "    </tr>\n",
       "    <tr>\n",
       "      <th>13</th>\n",
       "      <td>TENNIS</td>\n",
       "      <td>2018</td>\n",
       "      <td>26.14</td>\n",
       "      <td>5.0</td>\n",
       "    </tr>\n",
       "    <tr>\n",
       "      <th>14</th>\n",
       "      <td>TENNIS</td>\n",
       "      <td>2019</td>\n",
       "      <td>23.40</td>\n",
       "      <td>4.0</td>\n",
       "    </tr>\n",
       "  </tbody>\n",
       "</table>\n",
       "</div>"
      ],
      "text/plain": [
       "      FIELD  YEAR  AVG_CHANGE  NEW_CT\n",
       "0     CHESS  2017       12.56     2.0\n",
       "1     CHESS  2018       11.42     1.0\n",
       "2     CHESS  2019       12.80     4.0\n",
       "3   PINBALL  2017       16.74     7.0\n",
       "4   PINBALL  2018       17.56     4.0\n",
       "5   PINBALL  2019        8.64     0.0\n",
       "6     POKER  2017       32.18    16.0\n",
       "7     POKER  2018       37.94    16.0\n",
       "8     POKER  2019       31.94    12.0\n",
       "9      SSBM  2017       16.14     6.0\n",
       "10     SSBM  2018       16.18     5.0\n",
       "11     SSBM  2019       18.92     5.0\n",
       "12   TENNIS  2017       18.16     4.0\n",
       "13   TENNIS  2018       26.14     5.0\n",
       "14   TENNIS  2019       23.40     4.0"
      ]
     },
     "execution_count": 70,
     "metadata": {},
     "output_type": "execute_result"
    }
   ],
   "source": [
    "combined_df"
   ]
  },
  {
   "cell_type": "code",
   "execution_count": null,
   "metadata": {},
   "outputs": [],
   "source": []
  },
  {
   "cell_type": "code",
   "execution_count": null,
   "metadata": {},
   "outputs": [],
   "source": []
  }
 ],
 "metadata": {
  "kernelspec": {
   "display_name": "Python 3",
   "language": "python",
   "name": "python3"
  },
  "language_info": {
   "codemirror_mode": {
    "name": "ipython",
    "version": 3
   },
   "file_extension": ".py",
   "mimetype": "text/x-python",
   "name": "python",
   "nbconvert_exporter": "python",
   "pygments_lexer": "ipython3",
   "version": "3.8.0"
  }
 },
 "nbformat": 4,
 "nbformat_minor": 4
}
