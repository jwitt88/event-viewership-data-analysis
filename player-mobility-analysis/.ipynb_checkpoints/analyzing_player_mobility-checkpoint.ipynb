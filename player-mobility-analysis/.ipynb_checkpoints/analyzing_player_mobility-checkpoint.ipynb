{
 "cells": [
  {
   "cell_type": "markdown",
   "metadata": {},
   "source": [
    "## Null hypoth: Something"
   ]
  },
  {
   "cell_type": "markdown",
   "metadata": {},
   "source": [
    "### Explanation of process"
   ]
  },
  {
   "cell_type": "code",
   "execution_count": 2,
   "metadata": {},
   "outputs": [],
   "source": [
    "import pandas as pd\n",
    "import numpy as np\n",
    "import seaborn as sns\n",
    "import matplotlib.pyplot as plt"
   ]
  },
  {
   "cell_type": "code",
   "execution_count": 3,
   "metadata": {},
   "outputs": [],
   "source": [
    "#create a list of the input files\n",
    "list_of_stat_files = ['poker_stats.csv', 'ssbm_stats.csv', 'chess_stats.csv', 'tennis_stats.csv', 'pinball_stats.csv']\n",
    "list_of_rank_files = ['poker_rank_data.csv', 'ssbm_rank_data.csv', 'chess_rank_data.csv', 'tennis_rank_data.csv', 'pinball_rank_data.csv']\n",
    "\n",
    "#create dataframes to hold the data\n",
    "stats_df = pd.DataFrame()\n",
    "rank_df = pd.DataFrame()"
   ]
  },
  {
   "cell_type": "code",
   "execution_count": 4,
   "metadata": {},
   "outputs": [],
   "source": [
    "#read all the data in the stats files into stats_df\n",
    "for file in list_of_stat_files:\n",
    "    temp_df = pd.read_csv(file)\n",
    "    stats_df = pd.concat([stats_df, temp_df])\n",
    "    \n",
    "#read all the data in the rank files into rank_df\n",
    "for file2 in list_of_rank_files:\n",
    "    temp_df2 = pd.read_csv(file2)\n",
    "    rank_df = pd.concat([rank_df, temp_df2])"
   ]
  },
  {
   "cell_type": "markdown",
   "metadata": {},
   "source": [
    "#### If you're keen to export all of the data as a single file, run the below:"
   ]
  },
  {
   "cell_type": "code",
   "execution_count": 5,
   "metadata": {},
   "outputs": [],
   "source": [
    "#stats_df.to_csv('all_stats.csv', index=False)\n",
    "#rank_df.to_csv('all_ranks.csv', index=False)"
   ]
  },
  {
   "cell_type": "code",
   "execution_count": 12,
   "metadata": {},
   "outputs": [
    {
     "data": {
      "text/html": [
       "<div>\n",
       "<style scoped>\n",
       "    .dataframe tbody tr th:only-of-type {\n",
       "        vertical-align: middle;\n",
       "    }\n",
       "\n",
       "    .dataframe tbody tr th {\n",
       "        vertical-align: top;\n",
       "    }\n",
       "\n",
       "    .dataframe thead th {\n",
       "        text-align: right;\n",
       "    }\n",
       "</style>\n",
       "<table border=\"1\" class=\"dataframe\">\n",
       "  <thead>\n",
       "    <tr style=\"text-align: right;\">\n",
       "      <th></th>\n",
       "      <th>FIELD</th>\n",
       "      <th>YEAR</th>\n",
       "      <th>CHANGE</th>\n",
       "      <th>MAX</th>\n",
       "      <th>MIN</th>\n",
       "      <th>NEW_CT</th>\n",
       "      <th>N_RANK_AVG</th>\n",
       "      <th>G_CHANGE</th>\n",
       "      <th>G_MAX</th>\n",
       "    </tr>\n",
       "  </thead>\n",
       "  <tbody>\n",
       "    <tr>\n",
       "      <th>5</th>\n",
       "      <td>POKER</td>\n",
       "      <td>2019</td>\n",
       "      <td>1318.0</td>\n",
       "      <td>71.0</td>\n",
       "      <td>-73.0</td>\n",
       "      <td>45</td>\n",
       "      <td>65.0</td>\n",
       "      <td>2941.0</td>\n",
       "      <td>81.0</td>\n",
       "    </tr>\n",
       "    <tr>\n",
       "      <th>5</th>\n",
       "      <td>SSBM</td>\n",
       "      <td>2019</td>\n",
       "      <td>964.0</td>\n",
       "      <td>55.0</td>\n",
       "      <td>-41.0</td>\n",
       "      <td>33</td>\n",
       "      <td>72.0</td>\n",
       "      <td>1931.0</td>\n",
       "      <td>82.0</td>\n",
       "    </tr>\n",
       "    <tr>\n",
       "      <th>5</th>\n",
       "      <td>CHESS</td>\n",
       "      <td>2019</td>\n",
       "      <td>1070.0</td>\n",
       "      <td>48.0</td>\n",
       "      <td>-50.0</td>\n",
       "      <td>15</td>\n",
       "      <td>68.0</td>\n",
       "      <td>1570.0</td>\n",
       "      <td>88.0</td>\n",
       "    </tr>\n",
       "    <tr>\n",
       "      <th>5</th>\n",
       "      <td>TENNIS</td>\n",
       "      <td>2019</td>\n",
       "      <td>1620.0</td>\n",
       "      <td>64.0</td>\n",
       "      <td>-85.0</td>\n",
       "      <td>27</td>\n",
       "      <td>75.0</td>\n",
       "      <td>2328.0</td>\n",
       "      <td>80.0</td>\n",
       "    </tr>\n",
       "    <tr>\n",
       "      <th>3</th>\n",
       "      <td>PINBALL</td>\n",
       "      <td>2019</td>\n",
       "      <td>918.0</td>\n",
       "      <td>41.0</td>\n",
       "      <td>-31.0</td>\n",
       "      <td>16</td>\n",
       "      <td>80.0</td>\n",
       "      <td>1252.0</td>\n",
       "      <td>47.0</td>\n",
       "    </tr>\n",
       "  </tbody>\n",
       "</table>\n",
       "</div>"
      ],
      "text/plain": [
       "     FIELD  YEAR  CHANGE   MAX   MIN  NEW_CT  N_RANK_AVG  G_CHANGE  G_MAX\n",
       "5    POKER  2019  1318.0  71.0 -73.0      45        65.0    2941.0   81.0\n",
       "5     SSBM  2019   964.0  55.0 -41.0      33        72.0    1931.0   82.0\n",
       "5    CHESS  2019  1070.0  48.0 -50.0      15        68.0    1570.0   88.0\n",
       "5   TENNIS  2019  1620.0  64.0 -85.0      27        75.0    2328.0   80.0\n",
       "3  PINBALL  2019   918.0  41.0 -31.0      16        80.0    1252.0   47.0"
      ]
     },
     "execution_count": 12,
     "metadata": {},
     "output_type": "execute_result"
    }
   ],
   "source": [
    "stats_df[stats_df['YEAR'] == 2019]"
   ]
  },
  {
   "cell_type": "code",
   "execution_count": null,
   "metadata": {},
   "outputs": [],
   "source": []
  }
 ],
 "metadata": {
  "kernelspec": {
   "display_name": "Python 3",
   "language": "python",
   "name": "python3"
  },
  "language_info": {
   "codemirror_mode": {
    "name": "ipython",
    "version": 3
   },
   "file_extension": ".py",
   "mimetype": "text/x-python",
   "name": "python",
   "nbconvert_exporter": "python",
   "pygments_lexer": "ipython3",
   "version": "3.8.0"
  }
 },
 "nbformat": 4,
 "nbformat_minor": 4
}
