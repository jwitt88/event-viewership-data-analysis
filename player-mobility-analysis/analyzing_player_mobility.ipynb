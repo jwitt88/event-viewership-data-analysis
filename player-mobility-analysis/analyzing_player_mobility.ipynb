{
 "cells": [
  {
   "cell_type": "markdown",
   "metadata": {},
   "source": [
    "## Null hypoth: Something"
   ]
  },
  {
   "cell_type": "markdown",
   "metadata": {},
   "source": [
    "### Explanation of process"
   ]
  },
  {
   "cell_type": "code",
   "execution_count": 1,
   "metadata": {},
   "outputs": [],
   "source": [
    "import pandas as pd\n",
    "import numpy as np\n",
    "import seaborn as sns\n",
    "import matplotlib.pyplot as plt"
   ]
  },
  {
   "cell_type": "code",
   "execution_count": 14,
   "metadata": {},
   "outputs": [],
   "source": [
    "#create a list of the input files\n",
    "list_of_stat_files = ['poker_stats.csv', 'ssbm_stats.csv', 'chess_stats.csv', 'tennis_stats.csv', 'pinball_stats.csv']\n",
    "list_of_rank_files = ['poker_rank_data.csv', 'ssbm_rank_data.csv', 'chess_rank_data.csv', 'tennis_rank_data.csv', 'pinball_rank_data.csv']\n",
    "\n",
    "#create dataframes to hold the data\n",
    "stats_df = pd.DataFrame()\n",
    "rank_df = pd.DataFrame()"
   ]
  },
  {
   "cell_type": "code",
   "execution_count": 15,
   "metadata": {},
   "outputs": [],
   "source": [
    "#read all the data in the stats files into stats_df\n",
    "for file in list_of_stat_files:\n",
    "    temp_df = pd.read_csv(file)\n",
    "    stats_df = pd.concat([stats_df, temp_df])\n",
    "    \n",
    "#read all the data in the rank files into rank_df\n",
    "for file2 in list_of_rank_files:\n",
    "    temp_df2 = pd.read_csv(file2)\n",
    "    rank_df = pd.concat([rank_df, temp_df2])"
   ]
  },
  {
   "cell_type": "markdown",
   "metadata": {},
   "source": [
    "#### If you're keen to export all of the data as a single file, run the below:"
   ]
  },
  {
   "cell_type": "code",
   "execution_count": 20,
   "metadata": {},
   "outputs": [],
   "source": [
    "#stats_df.to_csv('all_stats.csv', index=False)\n",
    "#rank_df.to_csv('all_ranks.csv', index=False)"
   ]
  },
  {
   "cell_type": "code",
   "execution_count": 24,
   "metadata": {},
   "outputs": [
    {
     "data": {
      "text/html": [
       "<div>\n",
       "<style scoped>\n",
       "    .dataframe tbody tr th:only-of-type {\n",
       "        vertical-align: middle;\n",
       "    }\n",
       "\n",
       "    .dataframe tbody tr th {\n",
       "        vertical-align: top;\n",
       "    }\n",
       "\n",
       "    .dataframe thead th {\n",
       "        text-align: right;\n",
       "    }\n",
       "</style>\n",
       "<table border=\"1\" class=\"dataframe\">\n",
       "  <thead>\n",
       "    <tr style=\"text-align: right;\">\n",
       "      <th></th>\n",
       "      <th>YEAR</th>\n",
       "      <th>CHANGE</th>\n",
       "      <th>MAX</th>\n",
       "      <th>MIN</th>\n",
       "      <th>NEW_CT</th>\n",
       "      <th>N_RANK_AVG</th>\n",
       "      <th>G_CHANGE</th>\n",
       "      <th>G_MAX</th>\n",
       "    </tr>\n",
       "    <tr>\n",
       "      <th>FIELD</th>\n",
       "      <th></th>\n",
       "      <th></th>\n",
       "      <th></th>\n",
       "      <th></th>\n",
       "      <th></th>\n",
       "      <th></th>\n",
       "      <th></th>\n",
       "      <th></th>\n",
       "    </tr>\n",
       "  </thead>\n",
       "  <tbody>\n",
       "    <tr>\n",
       "      <th>CHESS</th>\n",
       "      <td>2016.5</td>\n",
       "      <td>1034.333333</td>\n",
       "      <td>49.0</td>\n",
       "      <td>-50.000000</td>\n",
       "      <td>18.000000</td>\n",
       "      <td>76.833333</td>\n",
       "      <td>1467.500000</td>\n",
       "      <td>62.166667</td>\n",
       "    </tr>\n",
       "    <tr>\n",
       "      <th>PINBALL</th>\n",
       "      <td>2018.0</td>\n",
       "      <td>1030.200000</td>\n",
       "      <td>48.0</td>\n",
       "      <td>-45.800000</td>\n",
       "      <td>21.000000</td>\n",
       "      <td>76.600000</td>\n",
       "      <td>1573.600000</td>\n",
       "      <td>64.600000</td>\n",
       "    </tr>\n",
       "    <tr>\n",
       "      <th>POKER</th>\n",
       "      <td>2016.5</td>\n",
       "      <td>1366.500000</td>\n",
       "      <td>69.0</td>\n",
       "      <td>-74.666667</td>\n",
       "      <td>43.500000</td>\n",
       "      <td>62.000000</td>\n",
       "      <td>3058.666667</td>\n",
       "      <td>88.333333</td>\n",
       "    </tr>\n",
       "    <tr>\n",
       "      <th>SSBM</th>\n",
       "      <td>2016.5</td>\n",
       "      <td>900.666667</td>\n",
       "      <td>54.5</td>\n",
       "      <td>-37.833333</td>\n",
       "      <td>27.166667</td>\n",
       "      <td>71.666667</td>\n",
       "      <td>1701.666667</td>\n",
       "      <td>74.000000</td>\n",
       "    </tr>\n",
       "    <tr>\n",
       "      <th>TENNIS</th>\n",
       "      <td>2016.5</td>\n",
       "      <td>1355.833333</td>\n",
       "      <td>61.5</td>\n",
       "      <td>-66.833333</td>\n",
       "      <td>26.833333</td>\n",
       "      <td>73.000000</td>\n",
       "      <td>2112.666667</td>\n",
       "      <td>75.333333</td>\n",
       "    </tr>\n",
       "  </tbody>\n",
       "</table>\n",
       "</div>"
      ],
      "text/plain": [
       "           YEAR       CHANGE   MAX        MIN     NEW_CT  N_RANK_AVG  \\\n",
       "FIELD                                                                  \n",
       "CHESS    2016.5  1034.333333  49.0 -50.000000  18.000000   76.833333   \n",
       "PINBALL  2018.0  1030.200000  48.0 -45.800000  21.000000   76.600000   \n",
       "POKER    2016.5  1366.500000  69.0 -74.666667  43.500000   62.000000   \n",
       "SSBM     2016.5   900.666667  54.5 -37.833333  27.166667   71.666667   \n",
       "TENNIS   2016.5  1355.833333  61.5 -66.833333  26.833333   73.000000   \n",
       "\n",
       "            G_CHANGE      G_MAX  \n",
       "FIELD                            \n",
       "CHESS    1467.500000  62.166667  \n",
       "PINBALL  1573.600000  64.600000  \n",
       "POKER    3058.666667  88.333333  \n",
       "SSBM     1701.666667  74.000000  \n",
       "TENNIS   2112.666667  75.333333  "
      ]
     },
     "execution_count": 24,
     "metadata": {},
     "output_type": "execute_result"
    }
   ],
   "source": [
    "stats_df.groupby(\"FIELD\").mean()"
   ]
  },
  {
   "cell_type": "code",
   "execution_count": null,
   "metadata": {},
   "outputs": [],
   "source": []
  }
 ],
 "metadata": {
  "kernelspec": {
   "display_name": "Python 3",
   "language": "python",
   "name": "python3"
  },
  "language_info": {
   "codemirror_mode": {
    "name": "ipython",
    "version": 3
   },
   "file_extension": ".py",
   "mimetype": "text/x-python",
   "name": "python",
   "nbconvert_exporter": "python",
   "pygments_lexer": "ipython3",
   "version": "3.8.0"
  }
 },
 "nbformat": 4,
 "nbformat_minor": 4
}
