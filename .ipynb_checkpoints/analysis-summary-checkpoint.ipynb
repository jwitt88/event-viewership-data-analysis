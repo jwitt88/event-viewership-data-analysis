{
 "cells": [
  {
   "cell_type": "markdown",
   "metadata": {},
   "source": [
    "# Analyzing tournament event data with Pandas, Numpy, and Matplotlib"
   ]
  },
  {
   "cell_type": "markdown",
   "metadata": {},
   "source": [
    "#### _H0: Event attendance, viewership, and prize-pools for SSBM are static year-on-year._"
   ]
  },
  {
   "cell_type": "markdown",
   "metadata": {},
   "source": [
    "### Section I: Analyzing event entrants over time"
   ]
  },
  {
   "cell_type": "code",
   "execution_count": 161,
   "metadata": {},
   "outputs": [],
   "source": [
    "import pandas as pd\n",
    "import matplotlib.pyplot as plt"
   ]
  },
  {
   "cell_type": "code",
   "execution_count": 162,
   "metadata": {},
   "outputs": [],
   "source": [
    "#load the data into our dataframe\n",
    "df = pd.read_csv('liquipedia-event-data-raw.csv')"
   ]
  },
  {
   "cell_type": "code",
   "execution_count": 163,
   "metadata": {},
   "outputs": [],
   "source": [
    "#dropping tournaments that don't contain a value for 'Entrants'\n",
    "df.dropna(subset=['Entrants'], axis=0, inplace=True)"
   ]
  },
  {
   "cell_type": "code",
   "execution_count": 164,
   "metadata": {},
   "outputs": [],
   "source": [
    "#we need to clean / remove some non-numeric characters before we convert the data type to int\n",
    "df['Entrants'] = df['Entrants'].str.replace('entrants', '').str.rstrip()\n",
    "df['Entrants'] = df['Entrants'].str.replace(',', '')\n",
    "df['Entrants'] = df['Entrants'].astype('int64')"
   ]
  },
  {
   "cell_type": "code",
   "execution_count": 165,
   "metadata": {},
   "outputs": [
    {
     "data": {
      "text/plain": [
       "Tournament_Name    object\n",
       "Date               object\n",
       "Prize              object\n",
       "Entrants            int64\n",
       "Location           object\n",
       "Winner             object\n",
       "dtype: object"
      ]
     },
     "execution_count": 165,
     "metadata": {},
     "output_type": "execute_result"
    }
   ],
   "source": [
    "#confirm that Entrants are now stored as integers\n",
    "df.dtypes"
   ]
  },
  {
   "cell_type": "code",
   "execution_count": 166,
   "metadata": {},
   "outputs": [],
   "source": [
    "#adding a column for 'YEAR' to compare year-on-year growth/decline for event attendance\n",
    "df['Year'] = df['Date'].str[-4:]\n",
    "df['Year'] = df['Year'].astype('int64')"
   ]
  },
  {
   "cell_type": "code",
   "execution_count": 167,
   "metadata": {},
   "outputs": [
    {
     "data": {
      "text/plain": [
       "Year\n",
       "2003      250\n",
       "2004      484\n",
       "2005     1131\n",
       "2006     1582\n",
       "2007     2080\n",
       "2008      530\n",
       "2009     1162\n",
       "2010     1426\n",
       "2011     1363\n",
       "2012     1511\n",
       "2013     2906\n",
       "2014     9613\n",
       "2015    23894\n",
       "2016    26405\n",
       "2017    25302\n",
       "2018    18738\n",
       "2019    18244\n",
       "2020     2576\n",
       "Name: Entrants, dtype: int64"
      ]
     },
     "execution_count": 167,
     "metadata": {},
     "output_type": "execute_result"
    }
   ],
   "source": [
    "#groupby year, and look at the total sum of entrants for all events:\n",
    "df.groupby('Year')['Entrants'].sum()"
   ]
  },
  {
   "cell_type": "code",
   "execution_count": 168,
   "metadata": {},
   "outputs": [],
   "source": [
    "#because the 2020 season has just started (and is incomplete), let's drop that data:\n",
    "df = df[df['Year'] != 2020].copy()"
   ]
  },
  {
   "cell_type": "code",
   "execution_count": 169,
   "metadata": {},
   "outputs": [],
   "source": [
    "#group by the total numbers of entrants per year, and make a label\n",
    "entrants_per_year = df.groupby('Year')['Entrants'].sum()\n",
    "years_label = [year for year, df in df.groupby('Year')]"
   ]
  },
  {
   "cell_type": "code",
   "execution_count": 170,
   "metadata": {},
   "outputs": [],
   "source": [
    "#get the end-point\n",
    "last_x = df[\"Year\"].iloc[0]\n",
    "last_y = entrants_per_year.tail(1)"
   ]
  },
  {
   "cell_type": "code",
   "execution_count": 171,
   "metadata": {},
   "outputs": [
    {
     "data": {
      "image/png": "[encoded data removed]",
      "text/plain": [
       "<Figure size 432x288 with 1 Axes>"
      ]
     },
     "metadata": {
      "needs_background": "light"
     },
     "output_type": "display_data"
    }
   ],
   "source": [
    "#now let's plot this data...\n",
    "fig, ax = plt.subplots()\n",
    "ax.plot(entrants_per_year)\n",
    "\n",
    "plt.xlabel('Year')\n",
    "plt.ylabel('Entrants')\n",
    "plt.xticks(years_label, rotation='vertical')\n",
    "\n",
    "#the orange line indicates the release of the melee documentary\n",
    "plt.axvline(x=2013, c='orange')\n",
    "ax.scatter(last_x, last_y, c='blue', s=10)\n",
    "\n",
    "plt.show();"
   ]
  },
  {
   "cell_type": "markdown",
   "metadata": {},
   "source": [
    "### As seen above, event _attendance_ continues to remain high, but what about the number of events?"
   ]
  },
  {
   "cell_type": "code",
   "execution_count": 172,
   "metadata": {},
   "outputs": [],
   "source": [
    "#let's get a series of the number of events:\n",
    "events_per_year = df.groupby('Year')['Tournament_Name'].count()"
   ]
  },
  {
   "cell_type": "code",
   "execution_count": 173,
   "metadata": {},
   "outputs": [],
   "source": [
    "#get the end-point\n",
    "last_x = df[\"Year\"].iloc[0]\n",
    "last_y = events_per_year.tail(1)"
   ]
  },
  {
   "cell_type": "code",
   "execution_count": 174,
   "metadata": {},
   "outputs": [
    {
     "data": {
      "image/png": "[encoded data removed]",
      "text/plain": [
       "<Figure size 432x288 with 1 Axes>"
      ]
     },
     "metadata": {
      "needs_background": "light"
     },
     "output_type": "display_data"
    }
   ],
   "source": [
    "#plot it out\n",
    "fix, ax = plt.subplots()\n",
    "ax.plot(events_per_year)\n",
    "\n",
    "plt.xlabel('Year')\n",
    "plt.ylabel('Entrants')\n",
    "plt.xticks(years_label, rotation='vertical')\n",
    "\n",
    "#the orange line indicates the release of the melee documentary\n",
    "plt.axvline(x=2013, c='orange')\n",
    "ax.scatter(last_x, last_y, c='blue', s=10)\n",
    "\n",
    "plt.show();"
   ]
  },
  {
   "cell_type": "code",
   "execution_count": null,
   "metadata": {},
   "outputs": [],
   "source": []
  },
  {
   "cell_type": "code",
   "execution_count": null,
   "metadata": {},
   "outputs": [],
   "source": []
  },
  {
   "cell_type": "code",
   "execution_count": null,
   "metadata": {},
   "outputs": [],
   "source": []
  },
  {
   "cell_type": "code",
   "execution_count": null,
   "metadata": {},
   "outputs": [],
   "source": []
  }
 ],
 "metadata": {
  "kernelspec": {
   "display_name": "Python 3",
   "language": "python",
   "name": "python3"
  },
  "language_info": {
   "codemirror_mode": {
    "name": "ipython",
    "version": 3
   },
   "file_extension": ".py",
   "mimetype": "text/x-python",
   "name": "python",
   "nbconvert_exporter": "python",
   "pygments_lexer": "ipython3",
   "version": "3.8.0"
  }
 },
 "nbformat": 4,
 "nbformat_minor": 4
}
